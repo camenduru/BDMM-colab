{
  "cells": [
    {
      "cell_type": "markdown",
      "metadata": {
        "id": "view-in-github"
      },
      "source": [
        "[![Open In Colab](https://colab.research.google.com/assets/colab-badge.svg)](https://colab.research.google.com/github/camenduru/BDMM-colab/blob/main/BDMM_colab.ipynb)"
      ]
    },
    {
      "cell_type": "code",
      "execution_count": null,
      "metadata": {
        "id": "VjYy0F2gZIPR"
      },
      "outputs": [],
      "source": [
        "%cd /content\n",
        "!git clone -b dev https://github.com/camenduru/BDMM\n",
        "%cd /content/BDMM\n",
        "\n",
        "!apt -y install -qq aria2 imagemagick\n",
        "!aria2c --console-log-level=error -c -x 16 -s 16 -k 1M https://huggingface.co/camenduru/BDMM/resolve/main/dancefashion/latest_net_D.pth?download=true -d /content/BDMM/checkpoints/dancefashion -o latest_net_D.pth\n",
        "!aria2c --console-log-level=error -c -x 16 -s 16 -k 1M https://huggingface.co/camenduru/BDMM/resolve/main/dancefashion/latest_net_D_V.pth?download=true -d /content/BDMM/checkpoints/dancefashion -o latest_net_D_V.pth\n",
        "!aria2c --console-log-level=error -c -x 16 -s 16 -k 1M https://huggingface.co/camenduru/BDMM/resolve/main/dancefashion/latest_net_G.pth?download=true -d /content/BDMM/checkpoints/dancefashion -o latest_net_G.pth\n",
        "!aria2c --console-log-level=error -c -x 16 -s 16 -k 1M https://huggingface.co/camenduru/BDMM/resolve/main/UBC_fasion_smpl.zip?download=true -d /content/BDMM -o UBC_fasion_smpl.zip\n",
        "!aria2c --console-log-level=error -c -x 16 -s 16 -k 1M https://huggingface.co/camenduru/BDMM/resolve/main/smpl_model.pkl?download=true -d /content/BDMM/checkpoints -o smpl_model.pkl\n",
        "!aria2c --console-log-level=error -c -x 16 -s 16 -k 1M https://huggingface.co/camenduru/BDMM/raw/main/test_list.csv -d /content/BDMM/UBC_fashion_smpl -o test_list.csv\n",
        "!aria2c --console-log-level=error -c -x 16 -s 16 -k 1M https://huggingface.co/camenduru/BDMM/resolve/main/fid_stat.npz?download=true -d /content/BDMM/UBC_fashion_smpl -o fid_stat.npz\n",
        "!aria2c --console-log-level=error -c -x 16 -s 16 -k 1M https://huggingface.co/camenduru/BDMM/resolve/main/test.zip?download=true -d /content/BDMM/UBC_fashion_smpl -o test.zip\n",
        "%cd /content/BDMM/UBC_fashion_smpl\n",
        "!unzip /content/BDMM/UBC_fashion_smpl/test.zip\n",
        "\n",
        "!pip install -q ninja cupy-cuda11x chainer\n",
        "\n",
        "%cd /content\n",
        "!git clone -b dev https://github.com/camenduru/neural_renderer\n",
        "%cd /content/neural_renderer\n",
        "!python setup.py install\n",
        "!python /content/neural_renderer/examples/example1.py\n",
        "\n",
        "%cd /content/BDMM\n",
        "\n",
        "!mkdir /content/BDMM/dataset\n",
        "!mv /content/BDMM/UBC_fashion_smpl /content/BDMM/dataset/UBC_fashion_smpl\n",
        "\n",
        "!python test.py --name dancefashion --batchSize 1 --gpu_id 0 --model dance --dataset_mode dance \\\n",
        "                --sub_dataset fashion --dataroot /content/BDMM/dataset/UBC_fashion_smpl --test_list /content/BDMM/dataset/UBC_fashion_smpl/test_list.csv"
      ]
    }
  ],
  "metadata": {
    "accelerator": "GPU",
    "colab": {
      "gpuType": "T4",
      "provenance": []
    },
    "kernelspec": {
      "display_name": "Python 3",
      "name": "python3"
    },
    "language_info": {
      "name": "python"
    }
  },
  "nbformat": 4,
  "nbformat_minor": 0
}
